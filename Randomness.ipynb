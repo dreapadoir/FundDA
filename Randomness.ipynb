{
 "cells": [
  {
   "cell_type": "markdown",
   "id": "5cb76d42",
   "metadata": {},
   "source": [
    "<h1 style=\"color: rgb(0, 133, 202);\">Randomness</h1>\n",
    "\n",
    "<hr style=\"border-top: 1px solid rgb(0, 0, 0);\" />\n"
   ]
  },
  {
   "cell_type": "markdown",
   "id": "572ee6ca",
   "metadata": {},
   "source": [
    "<h2 style=\"color: rgb(0, 133, 202);\">Exercise 1</h2>\n",
    "\n",
    "It is somewhat interesting that `(5 * 4 * 3 * 2 * 1)` perfectly divides `(10 * 9 * 8 * 7 * 6)` - there's no remainder.\n",
    "\n",
    "If we only wanted exactly four heads as opposed to five, the equivalent calculation would be `(10 * 9 * 8 * 7) / (4 * 3 * 2 * 1)`.\n",
    "\n",
    "Does that evenly divide too? What is the formula in general?\n",
    "\n",
    "Does it always come out as a positive whole number?\n",
    "\n",
    "<hr style=\"border-top: 1px solid rgb(0, 0, 0);\" />"
   ]
  },
  {
   "cell_type": "markdown",
   "id": "ece8eff4",
   "metadata": {},
   "source": [
    "Formula for combinations (taken from [here](https://www.mathsisfun.com/combinatorics/combinations-permutations.html))\n",
    "\n",
    "$$\n",
    "_{n}C_{r} = \\dfrac{n!}{r!(n-r)!}\n",
    "$$\n",
    "\n",
    "\n",
    "where $n$ is the total number of elements in a set and $r$ is the number of choosing objects in the set.\n",
    "\n",
    "If $n > r$, then by definition $r!$ and $(n-r)!$ are factors of $n!$. Therefore, $\\dfrac{n!}{r!(n-r)!}$"
   ]
  },
  {
   "cell_type": "markdown",
   "id": "2dfa15d5",
   "metadata": {},
   "source": [
    "Binomial distribution [here](https://en.wikipedia.org/wiki/Binomial_distribution)"
   ]
  },
  {
   "cell_type": "code",
   "execution_count": null,
   "id": "acfb8717",
   "metadata": {},
   "outputs": [],
   "source": []
  }
 ],
 "metadata": {
  "kernelspec": {
   "display_name": "Python 3 (ipykernel)",
   "language": "python",
   "name": "python3"
  },
  "language_info": {
   "codemirror_mode": {
    "name": "ipython",
    "version": 3
   },
   "file_extension": ".py",
   "mimetype": "text/x-python",
   "name": "python",
   "nbconvert_exporter": "python",
   "pygments_lexer": "ipython3",
   "version": "3.9.7"
  }
 },
 "nbformat": 4,
 "nbformat_minor": 5
}
