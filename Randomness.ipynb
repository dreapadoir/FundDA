{
 "cells": [
  {
   "cell_type": "markdown",
   "id": "5cb76d42",
   "metadata": {},
   "source": [
    "<h1 style=\"color: rgb(0, 133, 202);\">Randomness</h1>\n",
    "\n",
    "<hr style=\"border-top: 1px solid rgb(0, 0, 0);\" />\n"
   ]
  },
  {
   "cell_type": "markdown",
   "id": "572ee6ca",
   "metadata": {},
   "source": [
    "<h2 style=\"color: rgb(0, 133, 202);\">Exercise 1</h2>\n",
    "\n",
    "It is somewhat interesting that `(5 * 4 * 3 * 2 * 1)` perfectly divides `(10 * 9 * 8 * 7 * 6)` - there's no remainder.\n",
    "\n",
    "If we only wanted exactly four heads as opposed to five, the equivalent calculation would be `(10 * 9 * 8 * 7) / (4 * 3 * 2 * 1)`.\n",
    "\n",
    "Does that evenly divide too? What is the formula in general?\n",
    "\n",
    "Does it always come out as a positive whole number?\n",
    "\n",
    "<hr style=\"border-top: 1px solid rgb(0, 0, 0);\" />"
   ]
  },
  {
   "cell_type": "markdown",
   "id": "ece8eff4",
   "metadata": {},
   "source": [
    "This can be explained by a branch of mathematics called [combinatorics](https://en.wikipedia.org/wiki/Combinatorics). It is concerned with the combinations and permutations of elements of a set. As such, it is a subject in discrete mathematics. The formula we are examining here is the formula for [combinations](https://www.mathsisfun.com/combinatorics/combinations-permutations.html)). We use the formula for combinations because we aren't concerned about the order of our choices. \n",
    "\n",
    "The general formula for combinations is given by\n",
    "\n",
    "$$\n",
    "_{n}C_{r} = \\dfrac{n!}{r!(n-r)!}\n",
    "$$\n",
    "\n",
    "\n",
    "where $n$ is the total number of elements in a set and $r$ is the number of choosing objects in the set.\n",
    "\n",
    "This gives the number of ways that a certain number of elements can be chosen from a set, known as $n$ Choose $r$. Since we are counting the number of ways something can happen, it is logical that this will always give us a natural number.\n",
    "\n",
    "$nCr$ is also the formula for a cell in [Pascal's Triangle](https://ptri1.tripod.com/#:~:text=A%20number%20in%20the%20triangle,%2D%2D%2D%2D%2D%2D%2D). Since each cell in Pascal's Triangle is the sum of a sequence of positive whole numbers, it means $nCr$ will be a natural number as long as $n, r \\in \\mathbb{N}$.\n",
    "\n",
    "To show how it always divides evenly, we can look the formula for $nCr$. The numerator $n!$ is a product of $n$ consecutive natural numbers starting at 1. $r < n$ and is a product of $r$ consecutive natural numbers starting at 1. This means $r!$ is a factor of $n!$ and divides it evenly. \n",
    "\n",
    "This reduces the numerator to a product of $n-r$ consecutive numbers, starting at $r+1$. The denominator is now just $(n-r)!$ which is a product of $n-r$ consecutive numbers starting at one. For any set $S$ where the elements of $S$ are $n-r$ consecutive natural numbers and where $\\min(S) > r$, each element of $S$ can be divided evenly by a distinct factor of $r!$.\n",
    "\n",
    "To illustrate this lets look at choosing 13 elements from a set of 18. We have\n",
    "\n",
    "$$\n",
    "n = 18\n",
    "r = 13\n",
    "n! = 18 * 17 * 16 * 15 * 14 * 13 * 12 * 11 * 10 * 9 * 8 * 7 * 6 * 5 * 4 * 3 * 2 * 1\n",
    "\n",
    "r! = 13 * 12 * 11 * 10 * 9 * 8 * 7 * 6 * 5 * 4 * 3 * 2 * 1\n",
    "\n",
    "(n-r)! = 5!\n",
    "\\dfrac{n!}{r!} = 18 * 17 * 16 * 15 * 14\n",
    "$$\n",
    "\n",
    "So we get\n",
    "$$\n",
    "nCr = \\dfrac{18 * 17 * 16 * 15 * 14}{5!}\\\\\n",
    "= \\dfrac{18 * 17 * 16 * 15 * 14}{5 * 4 * 3 * 2 * 1}\n",
    "$$\n",
    "\n",
    "We can see that 5 divides 15 evenly, 4 divides 16, 3 divides 18, 2 divides 16 and 1 divides 17. This will hold true for any values of $n$ and $r$, so the denominator will always divide the numerator evenly."
   ]
  },
  {
   "cell_type": "markdown",
   "id": "2dfa15d5",
   "metadata": {},
   "source": [
    "Binomial distribution [here](https://en.wikipedia.org/wiki/Binomial_distribution)"
   ]
  },
  {
   "cell_type": "code",
   "execution_count": null,
   "id": "acfb8717",
   "metadata": {},
   "outputs": [],
   "source": []
  }
 ],
 "metadata": {
  "kernelspec": {
   "display_name": "Python 3 (ipykernel)",
   "language": "python",
   "name": "python3"
  },
  "language_info": {
   "codemirror_mode": {
    "name": "ipython",
    "version": 3
   },
   "file_extension": ".py",
   "mimetype": "text/x-python",
   "name": "python",
   "nbconvert_exporter": "python",
   "pygments_lexer": "ipython3",
   "version": "3.9.7"
  }
 },
 "nbformat": 4,
 "nbformat_minor": 5
}
