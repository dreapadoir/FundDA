{
 "cells": [
  {
   "cell_type": "markdown",
   "id": "5d4b0bf4",
   "metadata": {},
   "source": [
    "<h1 style=\"color: rgb(0, 133, 202);\">Data Cleansing</h1>\n",
    "\n",
    "<hr style=\"border-top: 1px solid rgb(0, 0, 0);\" />"
   ]
  },
  {
   "cell_type": "code",
   "execution_count": 2,
   "id": "7ef9633b",
   "metadata": {},
   "outputs": [],
   "source": [
    "import re"
   ]
  },
  {
   "cell_type": "markdown",
   "id": "6dc0c8c1",
   "metadata": {},
   "source": [
    "<h3 style=\"color: rgb(0, 133, 202);\">Exercise 1</h3>\n",
    "\n",
    "<hr style=\"border-top: 1px solid rgb(0, 0, 0);\" />"
   ]
  },
  {
   "cell_type": "markdown",
   "id": "aaeb2c81",
   "metadata": {},
   "source": [
    "Write a Python function to remove all non-alphanumeric characters from a string."
   ]
  },
  {
   "cell_type": "code",
   "execution_count": 17,
   "id": "8a5e6190",
   "metadata": {},
   "outputs": [
    {
     "data": {
      "text/plain": [
       "'TverskyAKahnemanD1973AvailabilityAheuristicforjudgingfrequencyandprobabilityCognitivePsychology52207232httpsdoiorg1010160010028573900339'"
      ]
     },
     "execution_count": 17,
     "metadata": {},
     "output_type": "execute_result"
    }
   ],
   "source": [
    "def onlyAlphaNum(string):\n",
    "    \n",
    "    cleanedString = re.sub(r'[^a-zA-Z0-9]', '', string)\n",
    "    \n",
    "    return cleanedString\n",
    "\n",
    "citation = 'Tversky, A., & Kahneman, D. (1973). Availability: A heuristic for judging frequency and probability. \\\\\\\n",
    "            Cognitive Psychology, 5(2), 207–232. https://doi.org/10.1016/0010-0285(73)90033-9'\n",
    "\n",
    "onlyAlphaNum(citation)"
   ]
  },
  {
   "cell_type": "code",
   "execution_count": null,
   "id": "891ef096",
   "metadata": {},
   "outputs": [],
   "source": []
  }
 ],
 "metadata": {
  "kernelspec": {
   "display_name": "Python 3 (ipykernel)",
   "language": "python",
   "name": "python3"
  },
  "language_info": {
   "codemirror_mode": {
    "name": "ipython",
    "version": 3
   },
   "file_extension": ".py",
   "mimetype": "text/x-python",
   "name": "python",
   "nbconvert_exporter": "python",
   "pygments_lexer": "ipython3",
   "version": "3.9.7"
  }
 },
 "nbformat": 4,
 "nbformat_minor": 5
}
