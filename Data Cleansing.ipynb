{
 "cells": [
  {
   "cell_type": "markdown",
   "id": "5d4b0bf4",
   "metadata": {},
   "source": [
    "<h1 style=\"color: rgb(0, 133, 202);\">Data Cleansing</h1>\n",
    "\n",
    "<hr style=\"border-top: 1px solid rgb(0, 0, 0);\" />"
   ]
  },
  {
   "cell_type": "code",
   "execution_count": 1,
   "id": "7ef9633b",
   "metadata": {},
   "outputs": [],
   "source": [
    "import re\n",
    "import urllib.request"
   ]
  },
  {
   "cell_type": "markdown",
   "id": "6dc0c8c1",
   "metadata": {},
   "source": [
    "<h3 style=\"color: rgb(0, 133, 202);\">Exercise 1</h3>\n",
    "\n",
    "<hr style=\"border-top: 1px solid rgb(0, 0, 0);\" />"
   ]
  },
  {
   "cell_type": "markdown",
   "id": "aaeb2c81",
   "metadata": {},
   "source": [
    "Write a Python function to remove all non-alphanumeric characters from a string."
   ]
  },
  {
   "cell_type": "code",
   "execution_count": 2,
   "id": "8a5e6190",
   "metadata": {},
   "outputs": [
    {
     "data": {
      "text/plain": [
       "'TverskyAKahnemanD1973AvailabilityAheuristicforjudgingfrequencyandprobabilityCognitivePsychology52207232httpsdoiorg1010160010028573900339'"
      ]
     },
     "execution_count": 2,
     "metadata": {},
     "output_type": "execute_result"
    }
   ],
   "source": [
    "#define a function, onlyAlphaNum, that takes an argument, string.\n",
    "\n",
    "def onlyAlphaNum(string):\n",
    "    \n",
    "    #create a variable that holds the output of the substitution. r'[^a-zA-Z0-9]' searches for only alphanumeric characters\n",
    "    cleanedString = re.sub(r'[^a-zA-Z0-9]', '', string)\n",
    "    \n",
    "    return cleanedString\n",
    "\n",
    "citation = 'Tversky, A., & Kahneman, D. (1973). Availability: A heuristic for judging frequency and probability. \\\\\\\n",
    "            Cognitive Psychology, 5(2), 207–232. https://doi.org/10.1016/0010-0285(73)90033-9'\n",
    "\n",
    "onlyAlphaNum(citation)"
   ]
  },
  {
   "cell_type": "markdown",
   "id": "cda9a009",
   "metadata": {},
   "source": [
    "<h3 style=\"color: rgb(0, 133, 202);\">Exercise 2</h3>\n",
    "\n",
    "<hr style=\"border-top: 1px solid rgb(0, 0, 0);\" />"
   ]
  },
  {
   "cell_type": "markdown",
   "id": "d9b6f104",
   "metadata": {},
   "source": [
    "Adapt the code to capitalise the first letter of the iris species, using regular expressions."
   ]
  },
  {
   "cell_type": "code",
   "execution_count": 3,
   "id": "d5eca4a1",
   "metadata": {},
   "outputs": [
    {
     "data": {
      "text/plain": [
       "['5.1,3.5,1.4,0.2,Iris-setosa',\n",
       " '4.9,3.0,1.4,0.2,Iris-setosa',\n",
       " '4.7,3.2,1.3,0.2,Iris-setosa',\n",
       " '4.6,3.1,1.5,0.2,Iris-setosa',\n",
       " '5.0,3.6,1.4,0.2,Iris-setosa',\n",
       " '5.4,3.9,1.7,0.4,Iris-setosa',\n",
       " '4.6,3.4,1.4,0.3,Iris-setosa',\n",
       " '5.0,3.4,1.5,0.2,Iris-setosa',\n",
       " '4.4,2.9,1.4,0.2,Iris-setosa',\n",
       " '4.9,3.1,1.5,0.1,Iris-setosa',\n",
       " '5.4,3.7,1.5,0.2,Iris-setosa',\n",
       " '4.8,3.4,1.6,0.2,Iris-setosa',\n",
       " '4.8,3.0,1.4,0.1,Iris-setosa',\n",
       " '4.3,3.0,1.1,0.1,Iris-setosa',\n",
       " '5.8,4.0,1.2,0.2,Iris-setosa',\n",
       " '5.7,4.4,1.5,0.4,Iris-setosa',\n",
       " '5.4,3.9,1.3,0.4,Iris-setosa',\n",
       " '5.1,3.5,1.4,0.3,Iris-setosa',\n",
       " '5.7,3.8,1.7,0.3,Iris-setosa',\n",
       " '5.1,3.8,1.5,0.3,Iris-setosa',\n",
       " '5.4,3.4,1.7,0.2,Iris-setosa',\n",
       " '5.1,3.7,1.5,0.4,Iris-setosa',\n",
       " '4.6,3.6,1.0,0.2,Iris-setosa',\n",
       " '5.1,3.3,1.7,0.5,Iris-setosa',\n",
       " '4.8,3.4,1.9,0.2,Iris-setosa',\n",
       " '5.0,3.0,1.6,0.2,Iris-setosa',\n",
       " '5.0,3.4,1.6,0.4,Iris-setosa',\n",
       " '5.2,3.5,1.5,0.2,Iris-setosa',\n",
       " '5.2,3.4,1.4,0.2,Iris-setosa',\n",
       " '4.7,3.2,1.6,0.2,Iris-setosa',\n",
       " '4.8,3.1,1.6,0.2,Iris-setosa',\n",
       " '5.4,3.4,1.5,0.4,Iris-setosa',\n",
       " '5.2,4.1,1.5,0.1,Iris-setosa',\n",
       " '5.5,4.2,1.4,0.2,Iris-setosa',\n",
       " '4.9,3.1,1.5,0.1,Iris-setosa',\n",
       " '5.0,3.2,1.2,0.2,Iris-setosa',\n",
       " '5.5,3.5,1.3,0.2,Iris-setosa',\n",
       " '4.9,3.1,1.5,0.1,Iris-setosa',\n",
       " '4.4,3.0,1.3,0.2,Iris-setosa',\n",
       " '5.1,3.4,1.5,0.2,Iris-setosa',\n",
       " '5.0,3.5,1.3,0.3,Iris-setosa',\n",
       " '4.5,2.3,1.3,0.3,Iris-setosa',\n",
       " '4.4,3.2,1.3,0.2,Iris-setosa',\n",
       " '5.0,3.5,1.6,0.6,Iris-setosa',\n",
       " '5.1,3.8,1.9,0.4,Iris-setosa',\n",
       " '4.8,3.0,1.4,0.3,Iris-setosa',\n",
       " '5.1,3.8,1.6,0.2,Iris-setosa',\n",
       " '4.6,3.2,1.4,0.2,Iris-setosa',\n",
       " '5.3,3.7,1.5,0.2,Iris-setosa',\n",
       " '5.0,3.3,1.4,0.2,Iris-setosa',\n",
       " '7.0,3.2,4.7,1.4,Iris-versicolor',\n",
       " '6.4,3.2,4.5,1.5,Iris-versicolor',\n",
       " '6.9,3.1,4.9,1.5,Iris-versicolor',\n",
       " '5.5,2.3,4.0,1.3,Iris-versicolor',\n",
       " '6.5,2.8,4.6,1.5,Iris-versicolor',\n",
       " '5.7,2.8,4.5,1.3,Iris-versicolor',\n",
       " '6.3,3.3,4.7,1.6,Iris-versicolor',\n",
       " '4.9,2.4,3.3,1.0,Iris-versicolor',\n",
       " '6.6,2.9,4.6,1.3,Iris-versicolor',\n",
       " '5.2,2.7,3.9,1.4,Iris-versicolor',\n",
       " '5.0,2.0,3.5,1.0,Iris-versicolor',\n",
       " '5.9,3.0,4.2,1.5,Iris-versicolor',\n",
       " '6.0,2.2,4.0,1.0,Iris-versicolor',\n",
       " '6.1,2.9,4.7,1.4,Iris-versicolor',\n",
       " '5.6,2.9,3.6,1.3,Iris-versicolor',\n",
       " '6.7,3.1,4.4,1.4,Iris-versicolor',\n",
       " '5.6,3.0,4.5,1.5,Iris-versicolor',\n",
       " '5.8,2.7,4.1,1.0,Iris-versicolor',\n",
       " '6.2,2.2,4.5,1.5,Iris-versicolor',\n",
       " '5.6,2.5,3.9,1.1,Iris-versicolor',\n",
       " '5.9,3.2,4.8,1.8,Iris-versicolor',\n",
       " '6.1,2.8,4.0,1.3,Iris-versicolor',\n",
       " '6.3,2.5,4.9,1.5,Iris-versicolor',\n",
       " '6.1,2.8,4.7,1.2,Iris-versicolor',\n",
       " '6.4,2.9,4.3,1.3,Iris-versicolor',\n",
       " '6.6,3.0,4.4,1.4,Iris-versicolor',\n",
       " '6.8,2.8,4.8,1.4,Iris-versicolor',\n",
       " '6.7,3.0,5.0,1.7,Iris-versicolor',\n",
       " '6.0,2.9,4.5,1.5,Iris-versicolor',\n",
       " '5.7,2.6,3.5,1.0,Iris-versicolor',\n",
       " '5.5,2.4,3.8,1.1,Iris-versicolor',\n",
       " '5.5,2.4,3.7,1.0,Iris-versicolor',\n",
       " '5.8,2.7,3.9,1.2,Iris-versicolor',\n",
       " '6.0,2.7,5.1,1.6,Iris-versicolor',\n",
       " '5.4,3.0,4.5,1.5,Iris-versicolor',\n",
       " '6.0,3.4,4.5,1.6,Iris-versicolor',\n",
       " '6.7,3.1,4.7,1.5,Iris-versicolor',\n",
       " '6.3,2.3,4.4,1.3,Iris-versicolor',\n",
       " '5.6,3.0,4.1,1.3,Iris-versicolor',\n",
       " '5.5,2.5,4.0,1.3,Iris-versicolor',\n",
       " '5.5,2.6,4.4,1.2,Iris-versicolor',\n",
       " '6.1,3.0,4.6,1.4,Iris-versicolor',\n",
       " '5.8,2.6,4.0,1.2,Iris-versicolor',\n",
       " '5.0,2.3,3.3,1.0,Iris-versicolor',\n",
       " '5.6,2.7,4.2,1.3,Iris-versicolor',\n",
       " '5.7,3.0,4.2,1.2,Iris-versicolor',\n",
       " '5.7,2.9,4.2,1.3,Iris-versicolor',\n",
       " '6.2,2.9,4.3,1.3,Iris-versicolor',\n",
       " '5.1,2.5,3.0,1.1,Iris-versicolor',\n",
       " '5.7,2.8,4.1,1.3,Iris-versicolor',\n",
       " '6.3,3.3,6.0,2.5,Iris-virginica',\n",
       " '5.8,2.7,5.1,1.9,Iris-virginica',\n",
       " '7.1,3.0,5.9,2.1,Iris-virginica',\n",
       " '6.3,2.9,5.6,1.8,Iris-virginica',\n",
       " '6.5,3.0,5.8,2.2,Iris-virginica',\n",
       " '7.6,3.0,6.6,2.1,Iris-virginica',\n",
       " '4.9,2.5,4.5,1.7,Iris-virginica',\n",
       " '7.3,2.9,6.3,1.8,Iris-virginica',\n",
       " '6.7,2.5,5.8,1.8,Iris-virginica',\n",
       " '7.2,3.6,6.1,2.5,Iris-virginica',\n",
       " '6.5,3.2,5.1,2.0,Iris-virginica',\n",
       " '6.4,2.7,5.3,1.9,Iris-virginica',\n",
       " '6.8,3.0,5.5,2.1,Iris-virginica',\n",
       " '5.7,2.5,5.0,2.0,Iris-virginica',\n",
       " '5.8,2.8,5.1,2.4,Iris-virginica',\n",
       " '6.4,3.2,5.3,2.3,Iris-virginica',\n",
       " '6.5,3.0,5.5,1.8,Iris-virginica',\n",
       " '7.7,3.8,6.7,2.2,Iris-virginica',\n",
       " '7.7,2.6,6.9,2.3,Iris-virginica',\n",
       " '6.0,2.2,5.0,1.5,Iris-virginica',\n",
       " '6.9,3.2,5.7,2.3,Iris-virginica',\n",
       " '5.6,2.8,4.9,2.0,Iris-virginica',\n",
       " '7.7,2.8,6.7,2.0,Iris-virginica',\n",
       " '6.3,2.7,4.9,1.8,Iris-virginica',\n",
       " '6.7,3.3,5.7,2.1,Iris-virginica',\n",
       " '7.2,3.2,6.0,1.8,Iris-virginica',\n",
       " '6.2,2.8,4.8,1.8,Iris-virginica',\n",
       " '6.1,3.0,4.9,1.8,Iris-virginica',\n",
       " '6.4,2.8,5.6,2.1,Iris-virginica',\n",
       " '7.2,3.0,5.8,1.6,Iris-virginica',\n",
       " '7.4,2.8,6.1,1.9,Iris-virginica',\n",
       " '7.9,3.8,6.4,2.0,Iris-virginica',\n",
       " '6.4,2.8,5.6,2.2,Iris-virginica',\n",
       " '6.3,2.8,5.1,1.5,Iris-virginica',\n",
       " '6.1,2.6,5.6,1.4,Iris-virginica',\n",
       " '7.7,3.0,6.1,2.3,Iris-virginica',\n",
       " '6.3,3.4,5.6,2.4,Iris-virginica',\n",
       " '6.4,3.1,5.5,1.8,Iris-virginica',\n",
       " '6.0,3.0,4.8,1.8,Iris-virginica',\n",
       " '6.9,3.1,5.4,2.1,Iris-virginica',\n",
       " '6.7,3.1,5.6,2.4,Iris-virginica',\n",
       " '6.9,3.1,5.1,2.3,Iris-virginica',\n",
       " '5.8,2.7,5.1,1.9,Iris-virginica',\n",
       " '6.8,3.2,5.9,2.3,Iris-virginica',\n",
       " '6.7,3.3,5.7,2.5,Iris-virginica',\n",
       " '6.7,3.0,5.2,2.3,Iris-virginica',\n",
       " '6.3,2.5,5.0,1.9,Iris-virginica',\n",
       " '6.5,3.0,5.2,2.0,Iris-virginica',\n",
       " '6.2,3.4,5.4,2.3,Iris-virginica',\n",
       " '5.9,3.0,5.1,1.8,Iris-virginica',\n",
       " '']"
      ]
     },
     "execution_count": 3,
     "metadata": {},
     "output_type": "execute_result"
    }
   ],
   "source": [
    "#https://github.com/ianmcloughlin/2223-S1-fund-data-analysis/blob/main/notebooks/05-cleansing.ipynb\n",
    "\n",
    "url = r'https://archive.ics.uci.edu/ml/machine-learning-databases/iris/iris.data'\n",
    "\n",
    "iris = [line.decode('utf-8').strip() for line in urllib.request.urlopen(url)]\n",
    "\n",
    "iris"
   ]
  },
  {
   "cell_type": "code",
   "execution_count": 7,
   "id": "7eb81c41",
   "metadata": {},
   "outputs": [
    {
     "name": "stdout",
     "output_type": "stream",
     "text": [
      "['Setosa,0.2,1.4,3.5,5.1', 'Setosa,0.2,1.4,3.0,4.9', 'Setosa,0.2,1.3,3.2,4.7', 'Setosa,0.2,1.5,3.1,4.6', 'Setosa,0.2,1.4,3.6,5.0', 'Setosa,0.4,1.7,3.9,5.4', 'Setosa,0.3,1.4,3.4,4.6', 'Setosa,0.2,1.5,3.4,5.0', 'Setosa,0.2,1.4,2.9,4.4', 'Setosa,0.1,1.5,3.1,4.9', 'Setosa,0.2,1.5,3.7,5.4', 'Setosa,0.2,1.6,3.4,4.8', 'Setosa,0.1,1.4,3.0,4.8', 'Setosa,0.1,1.1,3.0,4.3', 'Setosa,0.2,1.2,4.0,5.8', 'Setosa,0.4,1.5,4.4,5.7', 'Setosa,0.4,1.3,3.9,5.4', 'Setosa,0.3,1.4,3.5,5.1', 'Setosa,0.3,1.7,3.8,5.7', 'Setosa,0.3,1.5,3.8,5.1', 'Setosa,0.2,1.7,3.4,5.4', 'Setosa,0.4,1.5,3.7,5.1', 'Setosa,0.2,1.0,3.6,4.6', 'Setosa,0.5,1.7,3.3,5.1', 'Setosa,0.2,1.9,3.4,4.8', 'Setosa,0.2,1.6,3.0,5.0', 'Setosa,0.4,1.6,3.4,5.0', 'Setosa,0.2,1.5,3.5,5.2', 'Setosa,0.2,1.4,3.4,5.2', 'Setosa,0.2,1.6,3.2,4.7', 'Setosa,0.2,1.6,3.1,4.8', 'Setosa,0.4,1.5,3.4,5.4', 'Setosa,0.1,1.5,4.1,5.2', 'Setosa,0.2,1.4,4.2,5.5', 'Setosa,0.1,1.5,3.1,4.9', 'Setosa,0.2,1.2,3.2,5.0', 'Setosa,0.2,1.3,3.5,5.5', 'Setosa,0.1,1.5,3.1,4.9', 'Setosa,0.2,1.3,3.0,4.4', 'Setosa,0.2,1.5,3.4,5.1', 'Setosa,0.3,1.3,3.5,5.0', 'Setosa,0.3,1.3,2.3,4.5', 'Setosa,0.2,1.3,3.2,4.4', 'Setosa,0.6,1.6,3.5,5.0', 'Setosa,0.4,1.9,3.8,5.1', 'Setosa,0.3,1.4,3.0,4.8', 'Setosa,0.2,1.6,3.8,5.1', 'Setosa,0.2,1.4,3.2,4.6', 'Setosa,0.2,1.5,3.7,5.3', 'Setosa,0.2,1.4,3.3,5.0', 'Versicolor,1.4,4.7,3.2,7.0', 'Versicolor,1.5,4.5,3.2,6.4', 'Versicolor,1.5,4.9,3.1,6.9', 'Versicolor,1.3,4.0,2.3,5.5', 'Versicolor,1.5,4.6,2.8,6.5', 'Versicolor,1.3,4.5,2.8,5.7', 'Versicolor,1.6,4.7,3.3,6.3', 'Versicolor,1.0,3.3,2.4,4.9', 'Versicolor,1.3,4.6,2.9,6.6', 'Versicolor,1.4,3.9,2.7,5.2', 'Versicolor,1.0,3.5,2.0,5.0', 'Versicolor,1.5,4.2,3.0,5.9', 'Versicolor,1.0,4.0,2.2,6.0', 'Versicolor,1.4,4.7,2.9,6.1', 'Versicolor,1.3,3.6,2.9,5.6', 'Versicolor,1.4,4.4,3.1,6.7', 'Versicolor,1.5,4.5,3.0,5.6', 'Versicolor,1.0,4.1,2.7,5.8', 'Versicolor,1.5,4.5,2.2,6.2', 'Versicolor,1.1,3.9,2.5,5.6', 'Versicolor,1.8,4.8,3.2,5.9', 'Versicolor,1.3,4.0,2.8,6.1', 'Versicolor,1.5,4.9,2.5,6.3', 'Versicolor,1.2,4.7,2.8,6.1', 'Versicolor,1.3,4.3,2.9,6.4', 'Versicolor,1.4,4.4,3.0,6.6', 'Versicolor,1.4,4.8,2.8,6.8', 'Versicolor,1.7,5.0,3.0,6.7', 'Versicolor,1.5,4.5,2.9,6.0', 'Versicolor,1.0,3.5,2.6,5.7', 'Versicolor,1.1,3.8,2.4,5.5', 'Versicolor,1.0,3.7,2.4,5.5', 'Versicolor,1.2,3.9,2.7,5.8', 'Versicolor,1.6,5.1,2.7,6.0', 'Versicolor,1.5,4.5,3.0,5.4', 'Versicolor,1.6,4.5,3.4,6.0', 'Versicolor,1.5,4.7,3.1,6.7', 'Versicolor,1.3,4.4,2.3,6.3', 'Versicolor,1.3,4.1,3.0,5.6', 'Versicolor,1.3,4.0,2.5,5.5', 'Versicolor,1.2,4.4,2.6,5.5', 'Versicolor,1.4,4.6,3.0,6.1', 'Versicolor,1.2,4.0,2.6,5.8', 'Versicolor,1.0,3.3,2.3,5.0', 'Versicolor,1.3,4.2,2.7,5.6', 'Versicolor,1.2,4.2,3.0,5.7', 'Versicolor,1.3,4.2,2.9,5.7', 'Versicolor,1.3,4.3,2.9,6.2', 'Versicolor,1.1,3.0,2.5,5.1', 'Versicolor,1.3,4.1,2.8,5.7', 'Virginica,2.5,6.0,3.3,6.3', 'Virginica,1.9,5.1,2.7,5.8', 'Virginica,2.1,5.9,3.0,7.1', 'Virginica,1.8,5.6,2.9,6.3', 'Virginica,2.2,5.8,3.0,6.5', 'Virginica,2.1,6.6,3.0,7.6', 'Virginica,1.7,4.5,2.5,4.9', 'Virginica,1.8,6.3,2.9,7.3', 'Virginica,1.8,5.8,2.5,6.7', 'Virginica,2.5,6.1,3.6,7.2', 'Virginica,2.0,5.1,3.2,6.5', 'Virginica,1.9,5.3,2.7,6.4', 'Virginica,2.1,5.5,3.0,6.8', 'Virginica,2.0,5.0,2.5,5.7', 'Virginica,2.4,5.1,2.8,5.8', 'Virginica,2.3,5.3,3.2,6.4', 'Virginica,1.8,5.5,3.0,6.5', 'Virginica,2.2,6.7,3.8,7.7', 'Virginica,2.3,6.9,2.6,7.7', 'Virginica,1.5,5.0,2.2,6.0', 'Virginica,2.3,5.7,3.2,6.9', 'Virginica,2.0,4.9,2.8,5.6', 'Virginica,2.0,6.7,2.8,7.7', 'Virginica,1.8,4.9,2.7,6.3', 'Virginica,2.1,5.7,3.3,6.7', 'Virginica,1.8,6.0,3.2,7.2', 'Virginica,1.8,4.8,2.8,6.2', 'Virginica,1.8,4.9,3.0,6.1', 'Virginica,2.1,5.6,2.8,6.4', 'Virginica,1.6,5.8,3.0,7.2', 'Virginica,1.9,6.1,2.8,7.4', 'Virginica,2.0,6.4,3.8,7.9', 'Virginica,2.2,5.6,2.8,6.4', 'Virginica,1.5,5.1,2.8,6.3', 'Virginica,1.4,5.6,2.6,6.1', 'Virginica,2.3,6.1,3.0,7.7', 'Virginica,2.4,5.6,3.4,6.3', 'Virginica,1.8,5.5,3.1,6.4', 'Virginica,1.8,4.8,3.0,6.0', 'Virginica,2.1,5.4,3.1,6.9', 'Virginica,2.4,5.6,3.1,6.7', 'Virginica,2.3,5.1,3.1,6.9', 'Virginica,1.9,5.1,2.7,5.8', 'Virginica,2.3,5.9,3.2,6.8', 'Virginica,2.5,5.7,3.3,6.7', 'Virginica,2.3,5.2,3.0,6.7', 'Virginica,1.9,5.0,2.5,6.3', 'Virginica,2.0,5.2,3.0,6.5', 'Virginica,2.3,5.4,3.4,6.2', 'Virginica,1.8,5.1,3.0,5.9']\n"
     ]
    },
    {
     "data": {
      "text/plain": [
       "list"
      ]
     },
     "execution_count": 7,
     "metadata": {},
     "output_type": "execute_result"
    }
   ],
   "source": [
    "strip_iris = re.compile(r'([0-9]\\.[0-9]),([0-9]\\.[0-9]),([0-9]\\.[0-9]),([0-9]\\.[0-9]),Iris-([a-z]+)')\n",
    "\n",
    "lowerCase = [strip_iris.sub(r'\\5,\\4,\\3,\\2,\\1', line) for line in iris if line]\n",
    "\n",
    "def capitalise(string):\n",
    "    return string.group(1) + string.group(2).upper()\n",
    "\n",
    "upperCase = []\n",
    "for line in lowerCase:\n",
    "    upperCase.append(re.sub(\"(^|\\s)(\\S)\", capitalise, line))\n",
    "    \n",
    "print(upperCase)\n",
    "type(lowerCase)"
   ]
  },
  {
   "cell_type": "code",
   "execution_count": null,
   "id": "a00c9e6e",
   "metadata": {},
   "outputs": [],
   "source": []
  }
 ],
 "metadata": {
  "kernelspec": {
   "display_name": "Python 3 (ipykernel)",
   "language": "python",
   "name": "python3"
  },
  "language_info": {
   "codemirror_mode": {
    "name": "ipython",
    "version": 3
   },
   "file_extension": ".py",
   "mimetype": "text/x-python",
   "name": "python",
   "nbconvert_exporter": "python",
   "pygments_lexer": "ipython3",
   "version": "3.9.7"
  }
 },
 "nbformat": 4,
 "nbformat_minor": 5
}
