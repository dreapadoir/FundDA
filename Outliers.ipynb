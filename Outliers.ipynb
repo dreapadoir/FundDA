{
 "cells": [
  {
   "cell_type": "markdown",
   "id": "8a7456df",
   "metadata": {},
   "source": [
    "<h1 style=\"color: rgb(0, 133, 202);\">Outliers</h1>\n",
    "\n",
    "<hr style=\"border-top: 1px solid rgb(0, 0, 0);\" />"
   ]
  },
  {
   "cell_type": "markdown",
   "id": "d5f4ea2d",
   "metadata": {},
   "source": [
    "<h2 style=\"color: rgb(0, 133, 202);\">The Morley Dataset</h2>\n",
    "\n",
    "<hr style=\"border-top: 1px solid rgb(0, 0, 0);\" />"
   ]
  },
  {
   "cell_type": "code",
   "execution_count": 1,
   "id": "1bcead5c",
   "metadata": {},
   "outputs": [],
   "source": [
    "import numpy as np\n",
    "import matplotlib.pyplot as plt\n",
    "import pandas as pd"
   ]
  },
  {
   "cell_type": "code",
   "execution_count": 2,
   "id": "85c48ed0",
   "metadata": {},
   "outputs": [
    {
     "name": "stdout",
     "output_type": "stream",
     "text": [
      "<class 'pandas.core.frame.DataFrame'>\n"
     ]
    },
    {
     "data": {
      "text/html": [
       "<div>\n",
       "<style scoped>\n",
       "    .dataframe tbody tr th:only-of-type {\n",
       "        vertical-align: middle;\n",
       "    }\n",
       "\n",
       "    .dataframe tbody tr th {\n",
       "        vertical-align: top;\n",
       "    }\n",
       "\n",
       "    .dataframe thead th {\n",
       "        text-align: right;\n",
       "    }\n",
       "</style>\n",
       "<table border=\"1\" class=\"dataframe\">\n",
       "  <thead>\n",
       "    <tr style=\"text-align: right;\">\n",
       "      <th></th>\n",
       "      <th>Expt</th>\n",
       "      <th>Run</th>\n",
       "      <th>Speed</th>\n",
       "    </tr>\n",
       "  </thead>\n",
       "  <tbody>\n",
       "    <tr>\n",
       "      <th>0</th>\n",
       "      <td>1</td>\n",
       "      <td>1</td>\n",
       "      <td>850</td>\n",
       "    </tr>\n",
       "    <tr>\n",
       "      <th>1</th>\n",
       "      <td>1</td>\n",
       "      <td>2</td>\n",
       "      <td>740</td>\n",
       "    </tr>\n",
       "    <tr>\n",
       "      <th>2</th>\n",
       "      <td>1</td>\n",
       "      <td>3</td>\n",
       "      <td>900</td>\n",
       "    </tr>\n",
       "    <tr>\n",
       "      <th>3</th>\n",
       "      <td>1</td>\n",
       "      <td>4</td>\n",
       "      <td>1070</td>\n",
       "    </tr>\n",
       "    <tr>\n",
       "      <th>4</th>\n",
       "      <td>1</td>\n",
       "      <td>5</td>\n",
       "      <td>930</td>\n",
       "    </tr>\n",
       "  </tbody>\n",
       "</table>\n",
       "</div>"
      ],
      "text/plain": [
       "   Expt  Run  Speed\n",
       "0     1    1    850\n",
       "1     1    2    740\n",
       "2     1    3    900\n",
       "3     1    4   1070\n",
       "4     1    5    930"
      ]
     },
     "execution_count": 2,
     "metadata": {},
     "output_type": "execute_result"
    }
   ],
   "source": [
    "#read in the dataset from a csv file located online. Converts to a Dataframe.\n",
    "df = pd.read_csv(\"https://r-data.pmagunia.com/system/files/datasets/dataset-77488.csv\")\n",
    "print(type(df))\n",
    "df.head()"
   ]
  },
  {
   "cell_type": "code",
   "execution_count": 12,
   "id": "c20be1d6",
   "metadata": {},
   "outputs": [],
   "source": [
    "exptOne = df.loc[df['Expt']==1]\n",
    "exptTwo = df.loc[df['Expt']==2]\n",
    "exptThree = df.loc[df['Expt']==3]\n",
    "exptFour = df.loc[df['Expt']==4]\n",
    "exptFive = df.loc[df['Expt']==5]"
   ]
  },
  {
   "cell_type": "code",
   "execution_count": 37,
   "id": "20439267",
   "metadata": {},
   "outputs": [
    {
     "data": {
      "image/png": "[encoded data removed]",
      "text/plain": [
       "<Figure size 432x288 with 1 Axes>"
      ]
     },
     "metadata": {
      "needs_background": "light"
     },
     "output_type": "display_data"
    }
   ],
   "source": [
    "plt.boxplot(np.array([exptOne['Speed'], exptTwo['Speed'], exptThree['Speed'], exptFour['Speed'], exptFive['Speed']]).T)\n",
    "plt.axhline(792.458, label = 'true speed of light')\n",
    "plt.axhline(df['Speed'].mean(), color = 'r', label = 'Mean of experiments', ls = '--')\n",
    "plt.xlabel(xlabel = 'Experiment number')\n",
    "plt.ylabel(ylabel = 'Speed of light minus 299000 km/s')\n",
    "plt.legend();"
   ]
  },
  {
   "cell_type": "code",
   "execution_count": null,
   "id": "f91ff581",
   "metadata": {},
   "outputs": [],
   "source": []
  }
 ],
 "metadata": {
  "kernelspec": {
   "display_name": "Python 3 (ipykernel)",
   "language": "python",
   "name": "python3"
  },
  "language_info": {
   "codemirror_mode": {
    "name": "ipython",
    "version": 3
   },
   "file_extension": ".py",
   "mimetype": "text/x-python",
   "name": "python",
   "nbconvert_exporter": "python",
   "pygments_lexer": "ipython3",
   "version": "3.9.7"
  }
 },
 "nbformat": 4,
 "nbformat_minor": 5
}
