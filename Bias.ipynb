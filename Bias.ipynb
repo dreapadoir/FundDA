{
 "cells": [
  {
   "cell_type": "markdown",
   "id": "f55d97b6",
   "metadata": {},
   "source": [
    "<h1 style=\"color: rgb(0, 133, 202);\">Bias</h1>\n",
    "\n",
    "<hr style=\"border-top: 1px solid rgb(0, 0, 0);\" />\n"
   ]
  },
  {
   "cell_type": "markdown",
   "id": "296c0c8e",
   "metadata": {},
   "source": [
    "<h2 style=\"color: rgb(0, 133, 202);\">Exercise 1</h2>"
   ]
  },
  {
   "cell_type": "markdown",
   "id": "965036d1",
   "metadata": {},
   "source": [
    "The Dunning Kruger effect is a form of cognitive bias that occurs when people with low ability, expertise, or experience regarding a certain type of task or area of knowledge tend to overestimate their ability or knowledge (Wikipedia, 2022). Motta, Callaghan and Sylvester (2018) studied the effect it had on anti vaccine policy attitudes among the public. They found that one third of the group studied believed themselves to as knowledgable or more knowledgable than doctors or scientists about the causes of vaccines. This overconfidence in their expertise was highest among people with the low levels of knowledge about autism and who were more likely to endorse misinformation about the subject. This also appeared to correlate with opposition to vaccines. The issue surrounding vaccines and the Dunning Kruger effect contribution to vaccine opposition became very apparent throughout the Covid-19 pandemic. The ability to spread misinformation rapidly through social media amplified the effect and led to a widely supported opposition movement. Anti vaccine activists misinterpreted results of genuine medical trials, seized on dubious and discredited research studies and accepted as fact deliberate information. With this knowledge and the endorsement of likeminded people, they believed that they knew more than medical and public health officials and were in a better position to advise people on the safety or otherwise of vaccines."
   ]
  },
  {
   "cell_type": "markdown",
   "id": "c20353c9",
   "metadata": {},
   "source": [
    "A common example of cognitive bias is loss aversion or status quo bias. This occurs when a preference to avoid risk or loss is the deciding factor in a decision, even if it is not the best outcome. An example of this was given by Hartley, Lanot, & Walker (2013) in their research on the gameshow \"Who wants to be a Millionaire?\". Contestants were presented with a choice of two outcomes of equal probability. If they got it wrong, they would lose \\\\$99999. If they got it right, they would gain \\\\$400000. They had the option to not answer the question and leave with their present winnings of \\\\$100000. Contestants were more likely to leave with the money they already had rather than risk losing \\$99999. This is despite the fact that attempting the question had a better expected value than taking the winnings and leaving. The expected value is given by\n",
    "\n",
    "$$\n",
    "E(x) = \\Sigma P(x)\n",
    "$$\n",
    "\n",
    "where P is the probability of each outcome, x. In the case above we have\n",
    "\n",
    "$$\n",
    "E(x) = 0.5(-\\$99999) + 0.5(\\$400000)\\\\\n",
    "E(x) = -\\$49999.50 + \\$200000\\\\\n",
    "E(x) = \\$150000.50\n",
    "$$\n",
    "\n",
    "The expected value is significantly higher than their present winnings but the aversion to loss prevents most contestants from taking the risk."
   ]
  },
  {
   "cell_type": "markdown",
   "id": "01c1e0fe",
   "metadata": {},
   "source": [
    "The Availability Heuristic is a form of cognitive bias that influences decisions by giving extra weight to relevant examples that are more easily recalled. Common examples occur during panics following traumatic events. The probability of being the victim of a violent crime will be vastly overestimated in the wake of a high profile murder. Despite the actual probability of this happening being very low and unchanged since before the event, the ease with which an event like that can be recalled will increase the perceived risk for a time afterwards. In a study by Folkes (1988), the extent to which the name of rust remover was typical or not influenced how ineffective it was perceived to be. Some rust removers were given typical, generic names like X-Rust and Kleen and others were given atypical, distinctive names made of four random letters. Trials were run where subjects were told a rust remover worked or didn't work. The samples given were random and in a 2:1 ratio of effective to ineffective. Afterwards, the subjects were asked if a particular rust remover was effective. When a rust remover had an atypical name, it was given a higher estimate of failure than one with a typical name. "
   ]
  },
  {
   "cell_type": "markdown",
   "id": "16b91dab",
   "metadata": {},
   "source": [
    "## References\n",
    "\n",
    "https://www.researchgate.net/publication/256757335_Who_really_wants_to_be_a_millionaire_Estimates_of_risk_aversion_from_gameshow_data\n",
    "https://www.sciencedirect.com/science/article/abs/pii/S027795361830340X?via%3Dihub\n",
    "https://en.wikipedia.org/wiki/Dunning%E2%80%93Kruger_effect\n",
    "Folkes, V. S. (1988). The Availability Heuristic and Perceived Risk. Journal of Consumer Research, 15(1), 13–23. http://www.jstor.org/stable/2489168"
   ]
  },
  {
   "cell_type": "markdown",
   "id": "4825f4a5",
   "metadata": {},
   "source": [
    "<h2 style=\"color: rgb(0, 133, 202);\">Exercise 2</h2>"
   ]
  },
  {
   "cell_type": "code",
   "execution_count": 1,
   "id": "9ecd9abf",
   "metadata": {},
   "outputs": [],
   "source": [
    "import matplotlib.pyplot as plt"
   ]
  },
  {
   "cell_type": "markdown",
   "id": "bc715a65",
   "metadata": {},
   "source": [
    "The formula for the standard deviation, $\\sigma$, is given by\n",
    "\n",
    "$$\n",
    "\\sigma = \\sqrt{\\dfrac{\\Sigma(x_{i} - \\mu)^{2}}{N}}, \\text{  where $\\mu$ is the mean and $N$ is the size of the sample.}\n",
    "$$\n"
   ]
  },
  {
   "cell_type": "markdown",
   "id": "658fd170",
   "metadata": {},
   "source": [
    "Bessel's correction involves multiplying by $\\dfrac{N}{N-1}$. It perfectly corrects the underestimation of the standard deviation when applied to the variance $\\sigma^{2}$.\n",
    "\n",
    "$$\n",
    "\\sigma = \\sqrt{\\dfrac{N}{N-1}\\Bigg(\\dfrac{\\Sigma(x_{i} - \\mu)^{2}}{N}\\Bigg)}\n",
    "$$\n",
    "\n",
    "Let $\\Delta\\sigma^{2}$ be the underestimation of the standard deviation. We can calculate it by subtracting the uncorrected variance from the variance with Bessel's correction applied.\n",
    "\n",
    "$$\n",
    "\\Delta\\sigma^{2} = \\dfrac{N}{N-1}\\Bigg(\\dfrac{\\Sigma(x_{i} - \\mu)^{2}}{N}\\Bigg) - \\dfrac{\\Sigma(x_{i} - \\mu)^{2}}{N} \\\\\n",
    "= \\dfrac{\\Sigma(x_{i} - \\mu)^{2}}{N}\\Bigg(\\dfrac{N}{N-1} - 1\\Bigg)\n",
    "$$\n",
    "\n",
    "We can see that $\\dfrac{N}{N-1} - 1$ determines the size of the underestimation."
   ]
  },
  {
   "cell_type": "markdown",
   "id": "41998bc7",
   "metadata": {},
   "source": [
    "If we look at the values of $\\dfrac{N}{N-1} - 1$ for different values of $N$, we can see that decrease as $N$ increases. As $N$ grows, the underestimation gets smaller."
   ]
  },
  {
   "cell_type": "code",
   "execution_count": 2,
   "id": "548f6c0a",
   "metadata": {},
   "outputs": [
    {
     "data": {
      "text/plain": [
       "[0.5,\n",
       " 0.33333333333333326,\n",
       " 0.25,\n",
       " 0.19999999999999996,\n",
       " 0.16666666666666674,\n",
       " 0.1428571428571428,\n",
       " 0.125,\n",
       " 0.11111111111111116,\n",
       " 0.10000000000000009,\n",
       " 0.09090909090909083,\n",
       " 0.08333333333333326,\n",
       " 0.07692307692307687,\n",
       " 0.0714285714285714,\n",
       " 0.06666666666666665,\n",
       " 0.0625,\n",
       " 0.05882352941176472,\n",
       " 0.05555555555555558,\n",
       " 0.05263157894736836,\n",
       " 0.050000000000000044,\n",
       " 0.04761904761904767,\n",
       " 0.045454545454545414,\n",
       " 0.04347826086956519,\n",
       " 0.04166666666666674,\n",
       " 0.040000000000000036,\n",
       " 0.03846153846153855,\n",
       " 0.03703703703703698,\n",
       " 0.03571428571428581,\n",
       " 0.034482758620689724,\n",
       " 0.03333333333333344,\n",
       " 0.032258064516129004,\n",
       " 0.03125,\n",
       " 0.030303030303030276,\n",
       " 0.02941176470588225,\n",
       " 0.02857142857142847,\n",
       " 0.02777777777777768,\n",
       " 0.027027027027026973,\n",
       " 0.026315789473684292,\n",
       " 0.02564102564102555,\n",
       " 0.02499999999999991,\n",
       " 0.024390243902439046,\n",
       " 0.023809523809523725,\n",
       " 0.023255813953488413,\n",
       " 0.022727272727272707,\n",
       " 0.022222222222222143,\n",
       " 0.021739130434782705,\n",
       " 0.02127659574468077,\n",
       " 0.02083333333333326,\n",
       " 0.020408163265306145,\n",
       " 0.020000000000000018,\n",
       " 0.019607843137254832,\n",
       " 0.019230769230769162,\n",
       " 0.018867924528301883,\n",
       " 0.0185185185185186,\n",
       " 0.018181818181818077,\n",
       " 0.017857142857142794,\n",
       " 0.01754385964912286,\n",
       " 0.01724137931034475,\n",
       " 0.016949152542372836,\n",
       " 0.016666666666666607,\n",
       " 0.016393442622950838,\n",
       " 0.016129032258064502,\n",
       " 0.015873015873015817,\n",
       " 0.015625,\n",
       " 0.01538461538461533,\n",
       " 0.015151515151515138,\n",
       " 0.014925373134328401,\n",
       " 0.014705882352941124,\n",
       " 0.01449275362318847,\n",
       " 0.014285714285714235,\n",
       " 0.014084507042253502,\n",
       " 0.01388888888888884,\n",
       " 0.013698630136986356,\n",
       " 0.013513513513513598,\n",
       " 0.01333333333333342,\n",
       " 0.013157894736842035,\n",
       " 0.01298701298701288,\n",
       " 0.012820512820512775,\n",
       " 0.012658227848101333,\n",
       " 0.012499999999999956,\n",
       " 0.012345679012345734,\n",
       " 0.012195121951219523,\n",
       " 0.012048192771084265,\n",
       " 0.011904761904761862,\n",
       " 0.0117647058823529,\n",
       " 0.011627906976744207,\n",
       " 0.011494252873563315,\n",
       " 0.011363636363636465,\n",
       " 0.011235955056179803,\n",
       " 0.011111111111111072,\n",
       " 0.01098901098901095,\n",
       " 0.010869565217391353,\n",
       " 0.010752688172043001,\n",
       " 0.010638297872340496,\n",
       " 0.010526315789473717,\n",
       " 0.01041666666666674,\n",
       " 0.010309278350515427,\n",
       " 0.010204081632652962]"
      ]
     },
     "execution_count": 2,
     "metadata": {},
     "output_type": "execute_result"
    }
   ],
   "source": [
    "def test(N):\n",
    "    factor = N/(N-1) - 1\n",
    "    return factor\n",
    "\n",
    "list = []\n",
    "for i in range(3, 100):\n",
    "    list.append(test(i))\n",
    "\n",
    "list"
   ]
  },
  {
   "cell_type": "markdown",
   "id": "1a94d4b4",
   "metadata": {},
   "source": [
    "If we plot the values for $\\Delta\\sigma^{2}$ we can see that correction factor is significantly higher for smaller values of $N$."
   ]
  },
  {
   "cell_type": "code",
   "execution_count": 3,
   "id": "5f3c0d3b",
   "metadata": {},
   "outputs": [
    {
     "data": {
      "text/plain": [
       "[<matplotlib.lines.Line2D at 0x1886e8bf640>]"
      ]
     },
     "execution_count": 3,
     "metadata": {},
     "output_type": "execute_result"
    },
    {
     "data": {
      "image/png": "[encoded data removed]",
      "text/plain": [
       "<Figure size 432x288 with 1 Axes>"
      ]
     },
     "metadata": {
      "needs_background": "light"
     },
     "output_type": "display_data"
    }
   ],
   "source": [
    "plt.plot(list)"
   ]
  },
  {
   "cell_type": "markdown",
   "id": "2971e54f",
   "metadata": {},
   "source": [
    "<h2 style=\"color: rgb(0, 133, 202);\">Guessing Game function</h2>"
   ]
  },
  {
   "cell_type": "code",
   "execution_count": 4,
   "id": "f1ae7a31",
   "metadata": {},
   "outputs": [],
   "source": [
    "def test2(L):\n",
    "    doubleLength = len(L) * 2  #twice the number of elements in the list\n",
    "    constant = 17  #0b10001 means 10001 in binary, 17 in decimal. \n",
    "    listDifferences = []\n",
    "    for i in L:\n",
    "        a = i - 2  #0b1 is 2 in binary\n",
    "        listDifferences.append(a)\n",
    "    sumDifferences = sum(listDifferences) #sum([i - 0b10 for i in L]) is the sum of each number in the list minus 2\n",
    "    comparisons = []  \n",
    "    for i in range(len(L)-1):\n",
    "        if L[-i-1] >= L[-i-2]: #L[-i-1] is equivalent to L[::-1][i] and L[-i-2] is equivalent to L[::-1][i+0b1] (0b1 is 1 in binary)\n",
    "            comparisons.append(1)\n",
    "        else:\n",
    "            comparisons.append(0)\n",
    "    sumComparisons = sum(comparisons)\n",
    "    \n",
    "    #the test is checking two things, 1. that 17 is greater than or equal to the sum of twice the length of the set\n",
    "    #and the sum of the results of every element in the set minus two, 2. that each element except the first is greater than\n",
    "    #or equal to the element preceding it\n",
    "    return True if constant >= (doubleLength + sumDifferences) and sumComparisons == len(L) - 1 else False"
   ]
  },
  {
   "cell_type": "code",
   "execution_count": null,
   "id": "2f508e72",
   "metadata": {},
   "outputs": [],
   "source": []
  }
 ],
 "metadata": {
  "kernelspec": {
   "display_name": "Python 3 (ipykernel)",
   "language": "python",
   "name": "python3"
  },
  "language_info": {
   "codemirror_mode": {
    "name": "ipython",
    "version": 3
   },
   "file_extension": ".py",
   "mimetype": "text/x-python",
   "name": "python",
   "nbconvert_exporter": "python",
   "pygments_lexer": "ipython3",
   "version": "3.9.7"
  }
 },
 "nbformat": 4,
 "nbformat_minor": 5
}
