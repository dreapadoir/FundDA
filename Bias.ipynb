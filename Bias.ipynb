{
 "cells": [
  {
   "cell_type": "markdown",
   "id": "f55d97b6",
   "metadata": {},
   "source": [
    "<h1 style=\"color: rgb(0, 133, 202);\">Bias</h1>\n",
    "\n",
    "<hr style=\"border-top: 1px solid rgb(0, 0, 0);\" />\n"
   ]
  },
  {
   "cell_type": "markdown",
   "id": "296c0c8e",
   "metadata": {},
   "source": [
    "<h2 style=\"color: rgb(0, 133, 202);\">Exercise 1</h2>"
   ]
  },
  {
   "cell_type": "markdown",
   "id": "e8f34f63",
   "metadata": {},
   "source": [
    "Actor-observer bias: This is the tendency to attribute your own actions to external causes while attributing other people's behaviors to internal causes. For example, you attribute your high cholesterol level to genetics while you consider others to have a high level due to poor diet and lack of exercise.\n",
    "Anchoring bias: This is the tendency to rely too heavily on the very first piece of information you learn. For example, if you learn the average price for a car is a certain value, you will think any amount below that is a good deal, perhaps not searching for better deals. You can use this bias to set the expectations of others by putting the first information on the table for consideration.\n",
    "Attentional bias: This is the tendency to pay attention to some things while simultaneously ignoring others. For example, when making a decision on which car to buy, you may pay attention to the look and feel of the exterior and interior, but ignore the safety record and gas mileage.\n",
    "Availability heuristic: This is placing greater value on information that comes to your mind quickly. You give greater credence to this information and tend to overestimate the probability and likelihood of similar things happening in the future.\n",
    "Confirmation bias: This is favoring information that conforms to your existing beliefs and discounting evidence that does not conform.\n",
    "False consensus effect: This is the tendency to overestimate how much other people agree with you.\n",
    "Functional fixedness: This is the tendency to see objects as only working in a particular way. For example, if you don't have a hammer, you never consider that a big wrench can also be used to drive a nail into the wall. You may think you don't need thumbtacks because you have no corkboard on which to tack things, but not consider their other uses. This could extend to people's functions, such as not realizing a personal assistant has skills to be in a leadership role.\n",
    "Halo effect: Your overall impression of a person influences how you feel and think about their character. This especially applies to physical attractiveness influencing how you rate their other qualities.\n",
    "Misinformation effect: This is the tendency for post-event information to interfere with the memory of the original event. It is easy to have your memory influenced by what you hear about the event from others. Knowledge of this effect has led to a mistrust of eyewitness information.\n",
    "Optimism bias: This bias leads you to believe that you are less likely to suffer from misfortune and more likely to attain success than your peers.\n",
    "Self-serving bias: This is the tendency to blame external forces when bad things happen and give yourself credit when good things happen. For example, when you win a poker hand it is due to your skill at reading the other players and knowing the odds, while when you lose it is due to getting dealt a poor hand.\n",
    "The Dunning-Kruger effect: This is when people who believe that they are smarter and more capable than they really are. For example, when they can't recognize their own incompetence."
   ]
  },
  {
   "cell_type": "markdown",
   "id": "965036d1",
   "metadata": {},
   "source": [
    "The Dunning Kruger effect is a form of cognitive bias that occurs when people with low ability, expertise, or experience regarding a certain type of task or area of knowledge tend to overestimate their ability or knowledge (Wikipedia, 2022). Motta, Callaghan and Sylvester (2018) studied the effect it had on anti vaccine policy attitudes among the public. They found that one third of the group studied believed themselves to as knowledgable or more knowledgable than doctors or scientists about the causes of vaccines. This overconfidence in their expertise was highest among people with the low levels of knowledge about autism and who were more likely to endorse misinformation about the subject. This also appeared to correlate with opposition to vaccines. The issue surrounding vaccines and the Dunning Kruger effect contribution to vaccine opposition became very apparent throughout the Covid-19 pandemic. The ability to spread misinformation rapidly through social media amplified the effect and led to a widely supported opposition movement."
   ]
  },
  {
   "cell_type": "markdown",
   "id": "16b91dab",
   "metadata": {},
   "source": [
    "## References\n",
    "\n",
    "[forbes.com - Is cognitive bias controlling our view of Covid 19 vaccines?]\n",
    "https://en.wikipedia.org/wiki/Dunning%E2%80%93Kruger_effect"
   ]
  },
  {
   "cell_type": "code",
   "execution_count": null,
   "id": "df7e45ae",
   "metadata": {},
   "outputs": [],
   "source": []
  }
 ],
 "metadata": {
  "kernelspec": {
   "display_name": "Python 3 (ipykernel)",
   "language": "python",
   "name": "python3"
  },
  "language_info": {
   "codemirror_mode": {
    "name": "ipython",
    "version": 3
   },
   "file_extension": ".py",
   "mimetype": "text/x-python",
   "name": "python",
   "nbconvert_exporter": "python",
   "pygments_lexer": "ipython3",
   "version": "3.9.7"
  }
 },
 "nbformat": 4,
 "nbformat_minor": 5
}
