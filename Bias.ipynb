{
 "cells": [
  {
   "cell_type": "markdown",
   "id": "f55d97b6",
   "metadata": {},
   "source": [
    "<h1 style=\"color: rgb(0, 133, 202);\">Bias</h1>\n",
    "\n",
    "<hr style=\"border-top: 1px solid rgb(0, 0, 0);\" />\n"
   ]
  },
  {
   "cell_type": "markdown",
   "id": "296c0c8e",
   "metadata": {},
   "source": [
    "<h2 style=\"color: rgb(0, 133, 202);\">Exercise 1</h2>"
   ]
  },
  {
   "cell_type": "markdown",
   "id": "965036d1",
   "metadata": {},
   "source": [
    "The Dunning Kruger effect is a form of cognitive bias that occurs when people with low ability, expertise, or experience regarding a certain type of task or area of knowledge tend to overestimate their ability or knowledge (Wikipedia, 2022). Motta, Callaghan and Sylvester (2018) studied the effect it had on anti vaccine policy attitudes among the public. They found that one third of the group studied believed themselves to as knowledgable or more knowledgable than doctors or scientists about the causes of vaccines. This overconfidence in their expertise was highest among people with the low levels of knowledge about autism and who were more likely to endorse misinformation about the subject. This also appeared to correlate with opposition to vaccines. The issue surrounding vaccines and the Dunning Kruger effect contribution to vaccine opposition became very apparent throughout the Covid-19 pandemic. The ability to spread misinformation rapidly through social media amplified the effect and led to a widely supported opposition movement. Anti vaccine activists misinterpreted results of genuine medical trials, seized on dubious and discredited research studies and accepted as fact deliberate information. With this knowledge and the endorsement of likeminded people, they believed that they knew more than medical and public health officials and were in a better position to advise people on the safety or otherwise of vaccines."
   ]
  },
  {
   "cell_type": "markdown",
   "id": "c20353c9",
   "metadata": {},
   "source": [
    "A common example of cognitive bias is loss aversion or status quo bias. This occurs when a preference to avoid risk or loss is the deciding factor in a decision, even if it is not the best outcome. An example of this was given by Hartley, Lanot, & Walker (2013) in their research on the gameshow \"Who wants to be a Millionaire?\". Contestants were presented with a choice of two outcomes of equal probability. If they got it wrong, they would lose \\\\$99999. If they got it right, they would gain \\\\$400000. They had the option to not answer the question and leave with their present winnings of \\\\$100000. Contestants were more likely to leave with the money they already had rather than risk losing \\$99999. This is despite the fact that attempting the question had a better expected value than taking the winnings and leaving. The expected value is given by\n",
    "\n",
    "$$\n",
    "E(x) = \\Sigma P(x)\n",
    "$$\n",
    "\n",
    "where P is the probability of each outcome, x. In the case above we have\n",
    "\n",
    "$$\n",
    "E(x) = 0.5(-\\$99999) + 0.5(\\$400000)\\\\\n",
    "E(x) = -\\$49999.50 + \\$200000\\\\\n",
    "E(x) = \\$150000.50\n",
    "$$\n",
    "\n",
    "The expected value is significantly higher than their present winnings but the aversion to loss prevents most contestants from taking the risk."
   ]
  },
  {
   "cell_type": "markdown",
   "id": "01c1e0fe",
   "metadata": {},
   "source": [
    "The Availability Heuristic is a form of cognitive bias that influences decisions by giving extra weight to relevant examples that are more easily recalled. Common examples occur during panics following traumatic events. The probability of being the victim of a violent crime will be vastly overestimated in the wake of a high profile murder. Despite the actual probability of this happening being very low and unchanged since before the event, the ease with which an event like that can be recalled will increase the perceived risk for a time afterwards. In a study by Folkes (1988), the extent to which the name of rust remover was typical or not influenced how ineffective it was perceived to be. Some rust removers were given typical, generic names like X-Rust and Kleen and others were given atypical, distinctive names made of four random letters. Trials were run where subjects were told a rust remover worked or didn't work. The samples given were random and in a 2:1 ratio of effective to ineffective. Afterwards, the subjects were asked if a particular rust remover was effective. When a rust remover had an atypical name, it was given a higher estimate of failure than one with a typical name. "
   ]
  },
  {
   "cell_type": "markdown",
   "id": "16b91dab",
   "metadata": {},
   "source": [
    "## References\n",
    "\n",
    "https://www.researchgate.net/publication/256757335_Who_really_wants_to_be_a_millionaire_Estimates_of_risk_aversion_from_gameshow_data\n",
    "https://www.sciencedirect.com/science/article/abs/pii/S027795361830340X?via%3Dihub\n",
    "https://en.wikipedia.org/wiki/Dunning%E2%80%93Kruger_effect\n",
    "Folkes, V. S. (1988). The Availability Heuristic and Perceived Risk. Journal of Consumer Research, 15(1), 13–23. http://www.jstor.org/stable/2489168"
   ]
  },
  {
   "cell_type": "markdown",
   "id": "4825f4a5",
   "metadata": {},
   "source": [
    "<h2 style=\"color: rgb(0, 133, 202);\">Exercise 2</h2>"
   ]
  },
  {
   "cell_type": "markdown",
   "id": "2971e54f",
   "metadata": {},
   "source": [
    "Guessing Game function"
   ]
  },
  {
   "cell_type": "code",
   "execution_count": 1,
   "id": "f1ae7a31",
   "metadata": {},
   "outputs": [],
   "source": [
    "def test2(L):\n",
    "    doubleLength = len(L) * 2  #twice the number of elements in the list\n",
    "    constant = 17  #0b10001 means 10001 in binary, 17 in decimal. \n",
    "    listDifferences = []\n",
    "    for i in L:\n",
    "        a = i - 2  #0b1 is 2 in binary\n",
    "        listDifferences.append(a)\n",
    "    sumDifferences = sum(listDifferences) #sum([i - 0b10 for i in L]) is the sum of each number in the list minus 2\n",
    "    comparisons = []  \n",
    "    for i in range(len(L)-1):\n",
    "        if L[-i-1] >= L[-i-2]: #L[-i-1] is equivalent to L[::-1][i] and L[-i-2] is equivalent to L[::-1][i+0b1] (0b1 is 1 in binary)\n",
    "            comparisons.append(1)\n",
    "        else:\n",
    "            comparisons.append(0)\n",
    "    sumComparisons = sum(comparisons)\n",
    "    \n",
    "    #the test is checking two things, 1. that 17 is greater than or equal to the sum of twice the length of the set\n",
    "    #and the sum of the results of every element in the set minus two, 2. that each element except the first is greater than\n",
    "    #or equal to the element preceding it\n",
    "    return True if constant >= (doubleLength + sumDifferences) and sumComparisons == len(L) - 1 else False"
   ]
  },
  {
   "cell_type": "code",
   "execution_count": null,
   "id": "2f508e72",
   "metadata": {},
   "outputs": [],
   "source": []
  }
 ],
 "metadata": {
  "kernelspec": {
   "display_name": "Python 3 (ipykernel)",
   "language": "python",
   "name": "python3"
  },
  "language_info": {
   "codemirror_mode": {
    "name": "ipython",
    "version": 3
   },
   "file_extension": ".py",
   "mimetype": "text/x-python",
   "name": "python",
   "nbconvert_exporter": "python",
   "pygments_lexer": "ipython3",
   "version": "3.9.7"
  }
 },
 "nbformat": 4,
 "nbformat_minor": 5
}
