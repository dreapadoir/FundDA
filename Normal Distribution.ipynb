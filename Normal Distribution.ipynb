{
 "cells": [
  {
   "cell_type": "markdown",
   "id": "0993ecdc",
   "metadata": {},
   "source": [
    "<h1 style=\"color: rgb(0, 133, 202);\"> Normal Distribution</h1>\n",
    "\n",
    "<hr style=\"border-top: 1px solid rgb(0, 0, 0);\" />\n",
    "\n"
   ]
  },
  {
   "cell_type": "code",
   "execution_count": 1,
   "id": "ab9f6531",
   "metadata": {},
   "outputs": [],
   "source": [
    "import numpy as np\n",
    "import scipy.stats as ss\n",
    "import matplotlib.pyplot as plt"
   ]
  },
  {
   "cell_type": "markdown",
   "id": "52041ef3",
   "metadata": {},
   "source": [
    "<h3 style=\"color: rgb(0, 133, 202);\"> Probability Density Function</h3>\n",
    "\n",
    "<hr style=\"border-top: 1px solid rgb(0, 0, 0);\" />"
   ]
  },
  {
   "cell_type": "markdown",
   "id": "495c22e7",
   "metadata": {},
   "source": [
    "$$\n",
    "y = \\dfrac{1}{\\sigma \\sqrt{2\\pi}}e^{-\\dfrac{(x-\\mu)^{2}}{2\\sigma^{2}}}\n",
    "$$"
   ]
  },
  {
   "cell_type": "markdown",
   "id": "51edfdb1",
   "metadata": {},
   "source": [
    "The probability density function of the normal distribution, when evaluated at $x$, gives the probability that a random variable $X$ in the distribution is $x$. "
   ]
  },
  {
   "cell_type": "code",
   "execution_count": 50,
   "id": "42dddd12",
   "metadata": {},
   "outputs": [
    {
     "name": "stdout",
     "output_type": "stream",
     "text": [
      "The PDF of 0 is 0.3989422804014327\n",
      "The PDF of 1 is 0.24197072451914337\n",
      "The PDF of -1 is 0.24197072451914337\n"
     ]
    },
    {
     "data": {
      "text/plain": [
       "<matplotlib.legend.Legend at 0x24a1d2aa7f0>"
      ]
     },
     "execution_count": 50,
     "metadata": {},
     "output_type": "execute_result"
    },
    {
     "data": {
      "image/png": "[encoded data removed]",
      "text/plain": [
       "<Figure size 432x288 with 1 Axes>"
      ]
     },
     "metadata": {
      "needs_background": "light"
     },
     "output_type": "display_data"
    }
   ],
   "source": [
    "print(\"The PDF of 0 is {}\".format(ss.norm().pdf(0)))\n",
    "print(\"The PDF of 1 is {}\".format(ss.norm().pdf(1)))\n",
    "print(\"The PDF of -1 is {}\".format(ss.norm().pdf(-1)))\n",
    "x = np.linspace(xmin, xmax, 100)\n",
    "p = ss.norm.pdf(x, 0, 1)\n",
    "plt.plot(x, p, 'k', linewidth=2)\n",
    "plt.axhline(ss.norm.pdf(0), color = 'b', linestyle = '--', label = \"PDF of 0\")\n",
    "plt.axvline(0, color = 'b', linestyle = '-')\n",
    "plt.axhline(ss.norm.pdf(1), color = 'r', linestyle = '--', label = \"PDF of 1\")\n",
    "plt.axvline(1, color = 'r', linestyle = '-')\n",
    "plt.axhline(ss.norm.pdf(-1), color = 'y', linestyle = '--', label = \"PDF of -1\")\n",
    "plt.axvline(-1, color = 'y', linestyle = '-')\n",
    "plt.legend()"
   ]
  },
  {
   "cell_type": "markdown",
   "id": "4eb069f2",
   "metadata": {},
   "source": [
    "<h3 style=\"color: rgb(0, 133, 202);\"> Generating a normally distributed dataset</h3>\n",
    "\n",
    "<hr style=\"border-top: 1px solid rgb(0, 0, 0);\" />"
   ]
  },
  {
   "cell_type": "code",
   "execution_count": 29,
   "id": "de6bfff5",
   "metadata": {},
   "outputs": [
    {
     "data": {
      "text/plain": [
       "(array([  3.,   1.,   0.,   3.,   4.,   4.,   7.,  12.,  16.,  24.,  44.,\n",
       "         60.,  75.,  95., 138., 179., 240., 259., 331., 354., 447., 434.,\n",
       "        519., 539., 601., 557., 631., 556., 557., 500., 470., 422., 376.,\n",
       "        355., 272., 217., 186., 138.,  88.,  85.,  66.,  39.,  36.,  18.,\n",
       "         17.,  11.,   5.,   4.,   3.,   2.]),\n",
       " array([-3.90797697, -3.75827725, -3.60857753, -3.45887781, -3.30917808,\n",
       "        -3.15947836, -3.00977864, -2.86007892, -2.7103792 , -2.56067948,\n",
       "        -2.41097975, -2.26128003, -2.11158031, -1.96188059, -1.81218087,\n",
       "        -1.66248114, -1.51278142, -1.3630817 , -1.21338198, -1.06368226,\n",
       "        -0.91398253, -0.76428281, -0.61458309, -0.46488337, -0.31518365,\n",
       "        -0.16548393, -0.0157842 ,  0.13391552,  0.28361524,  0.43331496,\n",
       "         0.58301468,  0.73271441,  0.88241413,  1.03211385,  1.18181357,\n",
       "         1.33151329,  1.48121302,  1.63091274,  1.78061246,  1.93031218,\n",
       "         2.0800119 ,  2.22971163,  2.37941135,  2.52911107,  2.67881079,\n",
       "         2.82851051,  2.97821023,  3.12790996,  3.27760968,  3.4273094 ,\n",
       "         3.57700912]),\n",
       " <BarContainer object of 50 artists>)"
      ]
     },
     "execution_count": 29,
     "metadata": {},
     "output_type": "execute_result"
    },
    {
     "data": {
      "image/png": "[encoded data removed]",
      "text/plain": [
       "<Figure size 432x288 with 1 Axes>"
      ]
     },
     "metadata": {
      "needs_background": "light"
     },
     "output_type": "display_data"
    }
   ],
   "source": [
    "rng = np.random.default_rng()\n",
    "values = rng.normal(0, 1, 10000)\n",
    "plt.hist(values, bins=50)"
   ]
  },
  {
   "cell_type": "markdown",
   "id": "3cb1e8e5",
   "metadata": {},
   "source": [
    "Central Limit Theorem and sample means"
   ]
  },
  {
   "cell_type": "markdown",
   "id": "35922775",
   "metadata": {},
   "source": [
    "The cumulative distribution function of the normal distribution, when evaluated at $x$ gives the probability that a normally distributed continuous, real-valued variable $X$ will take a value less than or equal to $x$. The formula for the CDF of a normal distribution is given by<br />\n",
    "<br />\n",
    "$$\n",
    "\\\\\n",
    "F(x) = \\Phi\\Big(\\dfrac{x - \\mu}{\\sigma}\\Big) = \\dfrac{1}{2}\\Bigg[1 + \\mathrm{erf}\\Bigg(\\dfrac{x - \\mu}{\\sigma\\sqrt{2}}\\Bigg)\\Bigg]\n",
    "\\\\\n",
    "$$\n",
    "<br />\n",
    "We can calculated the CDF using the cdf method from scipy.stats package. For our array values above the CDF of 1 is 0.8413. That is the probability of a random variable $X$ in this distribution being less than or equal to $1$ is 0.8413. We can see this in the plot below. The probability that $X$ is less than or equal to $1$ is the area of the orange section."
   ]
  },
  {
   "cell_type": "code",
   "execution_count": 55,
   "id": "7917c78c",
   "metadata": {},
   "outputs": [
    {
     "name": "stdout",
     "output_type": "stream",
     "text": [
      "The CDF of 1 for the our normal distribution is 0.8413.\n"
     ]
    },
    {
     "data": {
      "image/png": "[encoded data removed]",
      "text/plain": [
       "<Figure size 432x288 with 1 Axes>"
      ]
     },
     "metadata": {
      "needs_background": "light"
     },
     "output_type": "display_data"
    }
   ],
   "source": [
    "plt.hist(values, bins=50)\n",
    "plt.axvline(1, color = 'r', linestyle = '-')\n",
    "print(\"The CDF of 1 for the our normal distribution is {}.\".format(round(ss.norm().cdf(1),4)))\n",
    "\n",
    "\n",
    "for bar in plt.gca().containers[0]:\n",
    "    # get x midpoint of bar\n",
    "    x = bar.get_x() + 0.5 * bar.get_width()\n",
    "\n",
    "    # set bar color based on x\n",
    "    if x <= 1:\n",
    "        bar.set_color('orange')\n",
    "    else:\n",
    "        bar.set_color('blue')"
   ]
  },
  {
   "cell_type": "code",
   "execution_count": null,
   "id": "2976905a",
   "metadata": {},
   "outputs": [],
   "source": []
  },
  {
   "cell_type": "code",
   "execution_count": null,
   "id": "f668291b",
   "metadata": {},
   "outputs": [],
   "source": [
    "oneSigma = ss.norm().cdf(1) - ss.norm().cdf(-1)\n",
    "print(\"One standard deviation either side of the mean covers {}% of the values in the normal distribution.\".format(round(100*oneSigma,2)))\n",
    "twoSigma = ss.norm().cdf(2) - ss.norm().cdf(-2)\n",
    "print(\"Two standard deviations either side of the mean cover {}% of the values in the normal distribution.\".format(round(100*twoSigma,2)))\n",
    "threeSigma = ss.norm().cdf(3) - ss.norm().cdf(-3)\n",
    "print(\"Three standard deviations either side of the mean cover {}% of the values in the normal distribution.\".format(round(100*threeSigma,2)))"
   ]
  },
  {
   "cell_type": "markdown",
   "id": "b3bee048",
   "metadata": {},
   "source": [
    "<h3 style=\"color: rgb(0, 133, 202);\">Industry applications of the normal distribution</h3>\n",
    "\n",
    "<hr style=\"border-top: 1px solid rgb(0, 0, 0);\" />"
   ]
  },
  {
   "cell_type": "markdown",
   "id": "daca072a",
   "metadata": {},
   "source": [
    "A major application of the normal distribution in industry is the control of manufacturing processes. Many processes, such as the high volume manufacture of nuts and bolts, present as normally distributed values. "
   ]
  },
  {
   "cell_type": "code",
   "execution_count": null,
   "id": "8ca6ee89",
   "metadata": {},
   "outputs": [],
   "source": [
    "ss.norm().cdf(3) - ss.norm().cdf(-3)"
   ]
  },
  {
   "cell_type": "markdown",
   "id": "9ea11eca",
   "metadata": {},
   "source": [
    "Six Sigma and Statistical Process Control - special cause/common cause"
   ]
  },
  {
   "cell_type": "markdown",
   "id": "9e09cc99",
   "metadata": {},
   "source": [
    "Capability"
   ]
  },
  {
   "cell_type": "markdown",
   "id": "525c0603",
   "metadata": {},
   "source": [
    "<h2 style=\"color: rgb(0, 133, 202);\">References</h2>\n",
    "\n",
    "<hr style=\"border-top: 1px solid rgb(0, 0, 0);\" />"
   ]
  },
  {
   "cell_type": "markdown",
   "id": "d174dc69",
   "metadata": {},
   "source": [
    "https://en.wikipedia.org/wiki/Normal_distribution <br />\n",
    "https://www.six-sigma-material.com/Normal-Distribution.html <br />\n",
    "https://mathworld.wolfram.com/CentralLimitTheorem.html"
   ]
  },
  {
   "cell_type": "code",
   "execution_count": null,
   "id": "053bd160",
   "metadata": {},
   "outputs": [],
   "source": []
  }
 ],
 "metadata": {
  "kernelspec": {
   "display_name": "Python 3 (ipykernel)",
   "language": "python",
   "name": "python3"
  },
  "language_info": {
   "codemirror_mode": {
    "name": "ipython",
    "version": 3
   },
   "file_extension": ".py",
   "mimetype": "text/x-python",
   "name": "python",
   "nbconvert_exporter": "python",
   "pygments_lexer": "ipython3",
   "version": "3.9.7"
  }
 },
 "nbformat": 4,
 "nbformat_minor": 5
}
